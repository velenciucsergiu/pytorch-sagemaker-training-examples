{
 "cells": [
  {
   "cell_type": "code",
   "execution_count": null,
   "metadata": {
    "collapsed": true
   },
   "outputs": [],
   "source": [
    "import pandas as pd\n",
    "import os\n",
    "from IPython.display import clear_output"
   ]
  },
  {
   "cell_type": "code",
   "execution_count": null,
   "metadata": {
    "pycharm": {
     "name": "#%%\n"
    }
   },
   "outputs": [],
   "source": [
    "s3_path_train = \"s3://sage-kms-example-sed/imdb/train.csv\"\n",
    "s3_path_test = \"s3://sage-kms-example-sed/imdb/test.csv\"\n",
    "input_path = \"./aclImdb\"\n",
    "output_path = \"./data\"\n",
    "kms_key = \"arn:aws:kms:us-east-1:970827775453:key/88fd1fb5-8f30-448c-a752-a271972d8419\""
   ]
  },
  {
   "cell_type": "code",
   "execution_count": null,
   "metadata": {
    "pycharm": {
     "name": "#%%\n"
    }
   },
   "outputs": [],
   "source": [
    "! curl -O https://ai.stanford.edu/~amaas/data/sentiment/aclImdb_v1.tar.gz"
   ]
  },
  {
   "cell_type": "code",
   "execution_count": null,
   "metadata": {
    "pycharm": {
     "name": "#%%\n"
    }
   },
   "outputs": [],
   "source": [
    "! tar -xzf aclImdb_v1.tar.gz"
   ]
  },
  {
   "cell_type": "code",
   "execution_count": null,
   "metadata": {
    "pycharm": {
     "name": "#%%\n"
    }
   },
   "outputs": [],
   "source": [
    "class Preprocess:\n",
    "    def __init__(self, path, output_path):\n",
    "        self.path = path\n",
    "        self.stage = [\"train\", \"test\"]\n",
    "        self.labels = [\"pos\", \"neg\"]\n",
    "        self.output_path = output_path\n",
    "        if not os.path.exist(os.path.join(os.getcwd(), self.output_path)):\n",
    "                             os.mkdir(os.path.join(os.getcwd(), self.output_path)) \n",
    "        \n",
    "    def process_txt(self, stage, label):\n",
    "        paths = os.listdir(os.path.join(self.path, stage,label))\n",
    "        with open(os.path.join(self.output_path,\"{0}_{1}.txt\".format(stage, label)), mode=\"a\", encoding=\"utf-8\") as output:\n",
    "            for path in paths:\n",
    "                with open(os.path.join(self.path,stage, label, path), mode=\"rb\") as f:\n",
    "                    output.write(f.read().decode(\"utf-8\")+\"\\n\")\n",
    "        return True   \n",
    "    def create(self):\n",
    "        for stage in self.stage:\n",
    "            datasets = []\n",
    "            for label in self.labels:\n",
    "                print(\"{0}/{1}\".format(stage, label))\n",
    "                self.process_txt(stage, label)\n",
    "                data = pd.read_csv(os.path.join(self.output_path,\"{0}_{1}.txt\".format(stage, label)), sep=\"\\n\", header=None, names=[\"text\"])\n",
    "                data[\"label\"] = 1 if label == \"pos\" else 0\n",
    "                datasets.append(data)\n",
    "            datasets = pd.concat(datasets, axis=0)\n",
    "            datasets = datasets.sample(frac=1).reset_index(drop=True)\n",
    "            datasets.to_csv(os.path.join(self.output_path,\"{0}.txt\".format(stage), index=False, header=False))\n",
    "            print(\"Dataset {0} created\".format(stage))\n",
    "        return True"
   ]
  },
  {
   "cell_type": "code",
   "execution_count": null,
   "metadata": {
    "pycharm": {
     "name": "#%%\n"
    }
   },
   "outputs": [],
   "source": [
    "Preproces(path=input_path, output_path = output_path).create()"
   ]
  },
  {
   "cell_type": "code",
   "execution_count": null,
   "metadata": {
    "pycharm": {
     "name": "#%%\n"
    }
   },
   "outputs": [],
   "source": [
    "! aws s3 cp $(pwd)/$output_path/train.csv $s3_path_train --sse aws:kms --sse-kms-key-id $kms_key"
   ]
  },
  {
   "cell_type": "code",
   "execution_count": null,
   "metadata": {
    "pycharm": {
     "name": "#%%\n"
    }
   },
   "outputs": [],
   "source": [
    "! aws s3 cp $(pwd)/$output_path/test.csv $s3_path_test --sse aws:kms --sse-kms-key-id $kms_key"
   ]
  },
  {
   "cell_type": "code",
   "execution_count": null,
   "metadata": {},
   "outputs": [],
   "source": [
    "! aws s3 cp $(pwd)/$output_path/test.csv $s3_path_test --sse aws:kms --sse-kms-key-id $kms_key"
   ]
  },
  {
   "cell_type": "code",
   "execution_count": null,
   "metadata": {},
   "outputs": [],
   "source": [
    "! curl -O https://ai.stanford.edu/~amaas/data/sentiment/aclImdb_v1.tar.gz"
   ]
  },
  {
   "cell_type": "code",
   "execution_count": null,
   "metadata": {},
   "outputs": [],
   "source": [
    "! tar -xzf aclImdb_v1.tar.gz"
   ]
  },
  {
   "cell_type": "code",
   "execution_count": null,
   "metadata": {},
   "outputs": [],
   "source": [
    "class Preprocess:\n",
    "    def __init__(self, path, output_path):\n",
    "        self.path = path\n",
    "        self.stage = [\"train\", \"test\"]\n",
    "        self.labels = [\"pos\", \"neg\"]\n",
    "        self.output_path = output_path\n",
    "        if not os.path.exist(os.path.join(os.getcwd(), self.output_path)):\n",
    "                             os.mkdir(os.path.join(os.getcwd(), self.output_path)) \n",
    "        \n",
    "    def process_txt(self, stage, label):\n",
    "        paths = os.listdir(os.path.join(self.path, stage,label))\n",
    "        with open(os.path.join(self.output_path,\"{0}_{1}.txt\".format(stage, label)), mode=\"a\", encoding=\"utf-8\") as output:\n",
    "            for path in paths:\n",
    "                with open(os.path.join(self.path,stage, label, path), mode=\"rb\") as f:\n",
    "                    output.write(f.read().decode(\"utf-8\")+\"\\n\")\n",
    "        return True   \n",
    "    def create(self):\n",
    "        for stage in self.stage:\n",
    "            datasets = []\n",
    "            for label in self.labels:\n",
    "                print(\"{0}/{1}\".format(stage, label))\n",
    "                self.process_txt(stage, label)\n",
    "                data = pd.read_csv(os.path.join(self.output_path,\"{0}_{1}.txt\".format(stage, label)), sep=\"\\n\", header=None, names=[\"text\"])\n",
    "                data[\"label\"] = 1 if label == \"pos\" else 0\n",
    "                datasets.append(data)\n",
    "            datasets = pd.concat(datasets, axis=0)\n",
    "            datasets = datasets.sample(frac=1).reset_index(drop=True)\n",
    "            datasets.to_csv(os.path.join(self.output_path,\"{0}.csv\".format(stage)))\n",
    "            print(\"Dataset {0} created\".format(stage))\n",
    "        return True"
   ]
  },
  {
   "cell_type": "code",
   "execution_count": null,
   "metadata": {},
   "outputs": [],
   "source": [
    "Preproces(path=input_path, output_path = output_path).create()"
   ]
  },
  {
   "cell_type": "code",
   "execution_count": null,
   "metadata": {},
   "outputs": [],
   "source": [
    "! aws s3 cp $(pwd)/$output_path/train.csv $s3_path_train --sse aws:kms --sse-kms-key-id $kms_key"
   ]
  },
  {
   "cell_type": "code",
   "execution_count": null,
   "metadata": {},
   "outputs": [],
   "source": [
    "! aws s3 cp $(pwd)/$output_path/test.csv $s3_path_test --sse aws:kms --sse-kms-key-id $kms_key"
   ]
  }
 ],
 "metadata": {
  "kernelspec": {
   "display_name": "Python 3",
   "language": "python",
   "name": "python3"
  },
  "language_info": {
   "codemirror_mode": {
    "name": "ipython",
    "version": 3
   },
   "file_extension": ".py",
   "mimetype": "text/x-python",
   "name": "python",
   "nbconvert_exporter": "python",
   "pygments_lexer": "ipython3",
   "version": "3.7.6"
  },
  "pycharm": {
   "stem_cell": {
    "cell_type": "raw",
    "metadata": {
     "collapsed": false
    },
    "source": []
   }
  }
 },
 "nbformat": 4,
 "nbformat_minor": 1
}
