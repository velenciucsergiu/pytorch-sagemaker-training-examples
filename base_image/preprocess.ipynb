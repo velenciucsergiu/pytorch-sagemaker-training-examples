{
 "cells": [
  {
   "cell_type": "markdown",
   "metadata": {},
   "source": [
    "## Data preprocessing for IMBD dataset\n",
    "\n",
    "\n",
    "In this step, we will download IMDB dataset, put in a common dataframe (pos and neg reviews), shuffle it, and put it to S3 bucket, with custom kms key, in txt format"
   ]
  },
  {
   "cell_type": "code",
   "execution_count": null,
   "metadata": {},
   "outputs": [],
   "source": [
    "import pandas as pd\n",
    "import os\n",
    "from IPython.display import clear_output"
   ]
  },
  {
   "cell_type": "markdown",
   "metadata": {},
   "source": [
    "Setting up paths for upload to s3 for test, train dataset, and setting up kms key."
   ]
  },
  {
   "cell_type": "code",
   "execution_count": null,
   "metadata": {},
   "outputs": [],
   "source": [
    "s3_path_train = \"s3://yourbucket/train.txt\"\n",
    "s3_path_test = \"s3://yourbucket/test.txt\"\n",
    "input_path = \"./aclImdb\"\n",
    "output_path = \"./data\"\n",
    "kms_key = \"yourkmskey\""
   ]
  },
  {
   "cell_type": "markdown",
   "metadata": {},
   "source": [
    "Downloading the dataset and untar-ing it"
   ]
  },
  {
   "cell_type": "code",
   "execution_count": null,
   "metadata": {},
   "outputs": [],
   "source": [
    "! curl -O https://ai.stanford.edu/~amaas/data/sentiment/aclImdb_v1.tar.gz"
   ]
  },
  {
   "cell_type": "code",
   "execution_count": null,
   "metadata": {},
   "outputs": [],
   "source": [
    "! tar -xzf aclImdb_v1.tar.gz"
   ]
  },
  {
   "cell_type": "markdown",
   "metadata": {},
   "source": [
    "Below a helper class, which will to through train/test data, pos/neg review folder, will open them and create a big test/train files, and save them to txt (data will be also shuffled before saving)"
   ]
  },
  {
   "cell_type": "code",
   "execution_count": null,
   "metadata": {},
   "outputs": [],
   "source": [
    "class Preprocess:\n",
    "    def __init__(self, path, output_path):\n",
    "        self.path = path\n",
    "        self.stage = [\"train\", \"test\"]\n",
    "        self.labels = [\"pos\", \"neg\"]\n",
    "        self.output_path = output_path\n",
    "        if not os.path.exists(os.path.join(os.getcwd(), self.output_path)):\n",
    "                             os.mkdir(os.path.join(os.getcwd(), self.output_path)) \n",
    "        \n",
    "    def process_txt(self, stage, label):\n",
    "        paths = os.listdir(os.path.join(self.path, stage,label))\n",
    "        with open(os.path.join(self.output_path,\"{0}_{1}.txt\".format(stage, label)), mode=\"a\", encoding=\"utf-8\") as output:\n",
    "            for path in paths:\n",
    "                with open(os.path.join(self.path,stage, label, path), mode=\"rb\") as f:\n",
    "                    output.write(f.read().decode(\"utf-8\")+\"\\n\")\n",
    "        return True   \n",
    "    def create(self):\n",
    "        for stage in self.stage:\n",
    "            datasets = []\n",
    "            for label in self.labels:\n",
    "                print(\"{0}/{1}\".format(stage, label))\n",
    "                self.process_txt(stage, label)\n",
    "                data = pd.read_csv(os.path.join(self.output_path,\"{0}_{1}.txt\".format(stage, label)), sep=\"\\n\", header=None, names=[\"text\"])\n",
    "                data[\"label\"] = 1 if label == \"pos\" else 0\n",
    "                datasets.append(data)\n",
    "            datasets = pd.concat(datasets, axis=0)\n",
    "            datasets = datasets.sample(frac=1).reset_index(drop=True)\n",
    "            datasets.to_csv(os.path.join(self.output_path,\"{0}.txt\".format(stage)), index=False, header=False)\n",
    "            print(\"Dataset {0} created\".format(stage))\n",
    "        return True"
   ]
  },
  {
   "cell_type": "code",
   "execution_count": null,
   "metadata": {},
   "outputs": [],
   "source": [
    "Preprocess(path=input_path, output_path = output_path).create()"
   ]
  },
  {
   "cell_type": "markdown",
   "metadata": {},
   "source": [
    "Putting data to s3"
   ]
  },
  {
   "cell_type": "code",
   "execution_count": null,
   "metadata": {},
   "outputs": [],
   "source": [
    "! aws s3 cp $(pwd)/$output_path/train.txt $s3_path_train --sse aws:kms --sse-kms-key-id $kms_key"
   ]
  },
  {
   "cell_type": "code",
   "execution_count": null,
   "metadata": {},
   "outputs": [],
   "source": [
    "! aws s3 cp $(pwd)/$output_path/test.txt $s3_path_test --sse aws:kms --sse-kms-key-id $kms_key"
   ]
  }
 ],
 "metadata": {
  "kernelspec": {
   "display_name": "Python 3",
   "language": "python",
   "name": "python3"
  },
  "language_info": {
   "codemirror_mode": {
    "name": "ipython",
    "version": 3
   },
   "file_extension": ".py",
   "mimetype": "text/x-python",
   "name": "python",
   "nbconvert_exporter": "python",
   "pygments_lexer": "ipython3",
   "version": "3.8.3"
  }
 },
 "nbformat": 4,
 "nbformat_minor": 4
}
